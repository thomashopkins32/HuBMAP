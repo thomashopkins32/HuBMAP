{
 "cells": [
  {
   "cell_type": "markdown",
   "metadata": {},
   "source": [
    "# HuBMAP Release 1\n",
    "Thomas Hopkins\n",
    "\n",
    "## Overview\n",
    "\n",
    "Here is the first attempt at training a UNet for the HuBMAP competition.\n",
    "\n",
    "The code for this notebook is ported from my GitHub repository here: https://github.com/thomashopkins32/HuBMAP"
   ]
  },
  {
   "cell_type": "code",
   "execution_count": null,
   "metadata": {},
   "outputs": [],
   "source": [
    "import os\n",
    "import json\n",
    "\n",
    "import numpy as np\n",
    "import matplotlib.pyplot as plt\n",
    "from PIL import Image\n",
    "from skimage import measure\n",
    "from skimage.draw import polygon\n",
    "import torch\n",
    "import torch.optim as optim\n",
    "import torch.nn as nn\n",
    "from torch.utils.data import Dataset, DataLoader, random_split\n",
    "from torch.utils.tensorboard import SummaryWriter\n",
    "import torchvision\n",
    "import torchvision.models as models\n",
    "import torchvision.transforms as transforms\n",
    "from tqdm import tqdm"
   ]
  },
  {
   "cell_type": "code",
   "execution_count": null,
   "metadata": {},
   "outputs": [],
   "source": [
    "#%load_ext tensorboard.notebook\n",
    "#%tensorboard --logdir runs"
   ]
  },
  {
   "cell_type": "markdown",
   "metadata": {},
   "source": [
    "## Utilities\n",
    "\n",
    "Here are some useful utilities that help in debugging, model training, and model evalutation.\n",
    "\n",
    "I wrote a custom version of mAP for fun so use at your own risk."
   ]
  },
  {
   "cell_type": "markdown",
   "metadata": {},
   "source": [
    "## Architecture\n",
    "\n",
    "Here is the UNet architecture implementation.\n",
    "\n",
    "See the UNet paper for more information: https://arxiv.org/pdf/1505.04597v1.pdf"
   ]
  },
  {
   "cell_type": "markdown",
   "metadata": {},
   "source": [
    "## Dataset\n",
    "\n",
    "Here is the dataset that loads the images, annotations, and peforms data augmentation.\n",
    "\n",
    "We allow for the prediction of the background (label 0), glomerulus (label 1), and blood vessels (label 2)."
   ]
  },
  {
   "cell_type": "markdown",
   "metadata": {},
   "source": [
    "## CUDA Memory Usage\n",
    "\n",
    "It's important to see how much memory our model is using during training. Since this is a fairly large model with a large input (512x512 images), we need to know how large a batch size we can use on a single device. This will make training easier since our batch normalization will have better statistics the larger the batch size we use.\n",
    "\n",
    "Using a very low batch size could actually decrease performance when using batch normalization since it's statistics will be very noisy."
   ]
  },
  {
   "cell_type": "markdown",
   "metadata": {},
   "source": [
    "## Training\n",
    "\n",
    "Here is where we actually train the UNet."
   ]
  }
 ],
 "metadata": {
  "kernelspec": {
   "display_name": "ailab",
   "language": "python",
   "name": "python3"
  },
  "language_info": {
   "codemirror_mode": {
    "name": "ipython",
    "version": 3
   },
   "file_extension": ".py",
   "mimetype": "text/x-python",
   "name": "python",
   "nbconvert_exporter": "python",
   "pygments_lexer": "ipython3",
   "version": "3.10.10"
  },
  "orig_nbformat": 4
 },
 "nbformat": 4,
 "nbformat_minor": 2
}
