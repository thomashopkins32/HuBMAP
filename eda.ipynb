{
 "cells": [
  {
   "attachments": {},
   "cell_type": "markdown",
   "metadata": {},
   "source": [
    "# HuBMAP - Hacking the Human Vasculature\n",
    "\n",
    "This notebook is for exploratory data analysis (EDA) on the HuBMAP dataset.\n",
    "\n",
    "Kaggle competition link: https://www.kaggle.com/competitions/hubmap-hacking-the-human-vasculature/overview"
   ]
  },
  {
   "attachments": {},
   "cell_type": "markdown",
   "metadata": {},
   "source": []
  }
 ],
 "metadata": {
  "language_info": {
   "name": "python"
  },
  "orig_nbformat": 4
 },
 "nbformat": 4,
 "nbformat_minor": 2
}
