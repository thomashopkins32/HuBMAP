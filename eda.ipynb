{
 "cells": [
  {
   "attachments": {},
   "cell_type": "markdown",
   "metadata": {},
   "source": [
    "# HuBMAP - Hacking the Human Vasculature\n",
    "\n",
    "This notebook is for exploratory data analysis (EDA) on the HuBMAP dataset.\n",
    "\n",
    "Kaggle competition link: https://www.kaggle.com/competitions/hubmap-hacking-the-human-vasculature/overview"
   ]
  },
  {
   "cell_type": "code",
   "execution_count": null,
   "metadata": {},
   "outputs": [],
   "source": [
    "import os\n",
    "import json\n",
    "\n",
    "import matplotlib.pyplot as plt\n",
    "import numpy as np\n",
    "from PIL import Image"
   ]
  },
  {
   "cell_type": "code",
   "execution_count": null,
   "metadata": {},
   "outputs": [],
   "source": [
    "with open(os.path.join('data', 'polygons.jsonl'), 'r') as polygons_file:\n",
    "    polygons_list = list(polygons_file)\n",
    "\n",
    "polygons = [json.loads(p) for p in polygons_list[50:55]]"
   ]
  },
  {
   "cell_type": "code",
   "execution_count": null,
   "metadata": {},
   "outputs": [],
   "source": [
    "def plot_images(annotations, ax, plot_annoations=False):\n",
    "    im = Image.open(os.path.join('data', 'train', f\"{annotations['id']}.tif\"))\n",
    "    im_array = np.array(im)\n",
    "    if plot_annoations:\n",
    "        for ann in annotations['annotations']:\n",
    "            type = ann['type']\n",
    "            coordinates = ann['coordinates']\n",
    "            for coord in coordinates:\n",
    "                points = np.array(coord)\n",
    "                if type == 'glomerulus':\n",
    "                    ax.scatter(points[:, 0], points[:, 1], c='blue', alpha=1.0, s=1)\n",
    "                elif type == 'blood_vessel':\n",
    "                    ax.scatter(points[:, 0], points[:, 1], c='green', alpha=1.0, s=1)\n",
    "                else:\n",
    "                    ax.scatter(points[:, 0], points[:, 1], c='red', alpha=1.0, s=1)\n",
    "    ax.imshow(im_array)\n",
    "    ax.set_title(f\"ID: {annotations['id']}\")\n",
    "\n",
    "fig, axes = plt.subplots(2, 5, figsize=(20, 8))\n",
    "for i, p in enumerate(polygons):\n",
    "    plot_images(p, axes[0][i])\n",
    "    plot_images(p, axes[1][i], plot_annoations=True)"
   ]
  }
 ],
 "metadata": {
  "kernelspec": {
   "display_name": "ml",
   "language": "python",
   "name": "python3"
  },
  "language_info": {
   "codemirror_mode": {
    "name": "ipython",
    "version": 3
   },
   "file_extension": ".py",
   "mimetype": "text/x-python",
   "name": "python",
   "nbconvert_exporter": "python",
   "pygments_lexer": "ipython3",
   "version": "3.10.10"
  },
  "orig_nbformat": 4,
  "vscode": {
   "interpreter": {
    "hash": "2d7d7a2fcff5e703a5794d475df409a360530cf46db42ac81a0f7eb7e8204921"
   }
  }
 },
 "nbformat": 4,
 "nbformat_minor": 2
}
